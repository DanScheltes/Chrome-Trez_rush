{
  "nbformat": 4,
  "nbformat_minor": 0,
  "metadata": {
    "colab": {
      "provenance": []
    },
    "kernelspec": {
      "name": "python3",
      "display_name": "Python 3"
    },
    "language_info": {
      "name": "python"
    }
  },
  "cells": [
    {
      "cell_type": "markdown",
      "source": [
        "Equipe:\n",
        "\n",
        "*   Danilo Schelte Cardoso\n",
        "*   Felipe Leão Dias;\n",
        "*   Henrique Lyrio;\n",
        "*   Rafael Santos;\n",
        "\n",
        "        "
      ],
      "metadata": {
        "id": "hdqW3Iu5_0Li"
      }
    },
    {
      "cell_type": "markdown",
      "source": [
        "Instalando bibliotecas:\n",
        "- `numpy`: para operações matemáticas e manipulação de arrays.\n",
        "- `scipy`: para funções de pertinência fuzzy e otimização.\n",
        "- `matplotlib`: para visualização e gráficos.\n",
        "- `skfuzzy`: (opcional) para funções fuzzy adicionais."
      ],
      "metadata": {
        "id": "U92Wbb0aDEuL"
      }
    },
    {
      "cell_type": "code",
      "source": [
        "pip install numpy scipy matplotlib scikit-fuzzy"
      ],
      "metadata": {
        "colab": {
          "base_uri": "https://localhost:8080/"
        },
        "id": "ARPl0Jo9DLAb",
        "outputId": "0cc682d2-7bd4-4d4a-a977-7b3d937ccdba"
      },
      "execution_count": null,
      "outputs": [
        {
          "output_type": "stream",
          "name": "stdout",
          "text": [
            "Requirement already satisfied: numpy in /usr/local/lib/python3.10/dist-packages (1.26.4)\n",
            "Requirement already satisfied: scipy in /usr/local/lib/python3.10/dist-packages (1.13.1)\n",
            "Requirement already satisfied: matplotlib in /usr/local/lib/python3.10/dist-packages (3.8.0)\n",
            "Collecting scikit-fuzzy\n",
            "  Downloading scikit_fuzzy-0.5.0-py2.py3-none-any.whl.metadata (2.6 kB)\n",
            "Requirement already satisfied: contourpy>=1.0.1 in /usr/local/lib/python3.10/dist-packages (from matplotlib) (1.3.0)\n",
            "Requirement already satisfied: cycler>=0.10 in /usr/local/lib/python3.10/dist-packages (from matplotlib) (0.12.1)\n",
            "Requirement already satisfied: fonttools>=4.22.0 in /usr/local/lib/python3.10/dist-packages (from matplotlib) (4.54.1)\n",
            "Requirement already satisfied: kiwisolver>=1.0.1 in /usr/local/lib/python3.10/dist-packages (from matplotlib) (1.4.7)\n",
            "Requirement already satisfied: packaging>=20.0 in /usr/local/lib/python3.10/dist-packages (from matplotlib) (24.1)\n",
            "Requirement already satisfied: pillow>=6.2.0 in /usr/local/lib/python3.10/dist-packages (from matplotlib) (10.4.0)\n",
            "Requirement already satisfied: pyparsing>=2.3.1 in /usr/local/lib/python3.10/dist-packages (from matplotlib) (3.2.0)\n",
            "Requirement already satisfied: python-dateutil>=2.7 in /usr/local/lib/python3.10/dist-packages (from matplotlib) (2.8.2)\n",
            "Requirement already satisfied: six>=1.5 in /usr/local/lib/python3.10/dist-packages (from python-dateutil>=2.7->matplotlib) (1.16.0)\n",
            "Downloading scikit_fuzzy-0.5.0-py2.py3-none-any.whl (920 kB)\n",
            "\u001b[2K   \u001b[90m━━━━━━━━━━━━━━━━━━━━━━━━━━━━━━━━━━━━━━━━\u001b[0m \u001b[32m920.8/920.8 kB\u001b[0m \u001b[31m9.9 MB/s\u001b[0m eta \u001b[36m0:00:00\u001b[0m\n",
            "\u001b[?25hInstalling collected packages: scikit-fuzzy\n",
            "Successfully installed scikit-fuzzy-0.5.0\n"
          ]
        }
      ]
    },
    {
      "cell_type": "markdown",
      "source": [
        "A equipe escolheu o dataset de Qualidade de vinho da UC Irvine MAchine Learning Repository\n"
      ],
      "metadata": {
        "id": "8aVG3zjMAUac"
      }
    },
    {
      "cell_type": "code",
      "source": [
        "import pandas as pd\n",
        "\n",
        "# Link direto para o dataset de vinho tinto\n",
        "url = \"https://archive.ics.uci.edu/ml/machine-learning-databases/wine-quality/winequality-red.csv\"\n",
        "df = pd.read_csv(url, delimiter=';')\n",
        "\n",
        "# Renomear as colunas para remover espaços e padronizar em minúsculas\n",
        "df.columns = [col.strip().replace(\" \", \"_\").lower() for col in df.columns]\n",
        "\n",
        "# Separar a coluna 'quality' e armazenar as características em `df_features`\n",
        "quality_column = df['quality']\n",
        "df_features = df.drop(columns=['quality'])\n"
      ],
      "metadata": {
        "id": "_5ktHwFCBS7g"
      },
      "execution_count": null,
      "outputs": []
    },
    {
      "cell_type": "markdown",
      "source": [
        "Antes de aplicar qualquer pré-processamento, observe as primeiras linhas e as estatísticas descritivas para entender melhor o dataset:"
      ],
      "metadata": {
        "id": "lrIxcXrhBnfA"
      }
    },
    {
      "cell_type": "code",
      "source": [
        "print(df.head())          # Visualizar primeiras linhas\n",
        "print(df.describe())      # Estatísticas descritivas"
      ],
      "metadata": {
        "colab": {
          "base_uri": "https://localhost:8080/"
        },
        "id": "OUxV8tF9BrHY",
        "outputId": "6e50eb2a-a7c5-4b78-f7cb-4e54a28357aa"
      },
      "execution_count": null,
      "outputs": [
        {
          "output_type": "stream",
          "name": "stdout",
          "text": [
            "   fixed_acidity  volatile_acidity  citric_acid  residual_sugar  chlorides  \\\n",
            "0            7.4              0.70         0.00             1.9      0.076   \n",
            "1            7.8              0.88         0.00             2.6      0.098   \n",
            "2            7.8              0.76         0.04             2.3      0.092   \n",
            "3           11.2              0.28         0.56             1.9      0.075   \n",
            "4            7.4              0.70         0.00             1.9      0.076   \n",
            "\n",
            "   free_sulfur_dioxide  total_sulfur_dioxide  density    ph  sulphates  \\\n",
            "0                 11.0                  34.0   0.9978  3.51       0.56   \n",
            "1                 25.0                  67.0   0.9968  3.20       0.68   \n",
            "2                 15.0                  54.0   0.9970  3.26       0.65   \n",
            "3                 17.0                  60.0   0.9980  3.16       0.58   \n",
            "4                 11.0                  34.0   0.9978  3.51       0.56   \n",
            "\n",
            "   alcohol  quality  \n",
            "0      9.4        5  \n",
            "1      9.8        5  \n",
            "2      9.8        5  \n",
            "3      9.8        6  \n",
            "4      9.4        5  \n",
            "       fixed_acidity  volatile_acidity  citric_acid  residual_sugar  \\\n",
            "count    1599.000000       1599.000000  1599.000000     1599.000000   \n",
            "mean        8.319637          0.527821     0.270976        2.538806   \n",
            "std         1.741096          0.179060     0.194801        1.409928   \n",
            "min         4.600000          0.120000     0.000000        0.900000   \n",
            "25%         7.100000          0.390000     0.090000        1.900000   \n",
            "50%         7.900000          0.520000     0.260000        2.200000   \n",
            "75%         9.200000          0.640000     0.420000        2.600000   \n",
            "max        15.900000          1.580000     1.000000       15.500000   \n",
            "\n",
            "         chlorides  free_sulfur_dioxide  total_sulfur_dioxide      density  \\\n",
            "count  1599.000000          1599.000000           1599.000000  1599.000000   \n",
            "mean      0.087467            15.874922             46.467792     0.996747   \n",
            "std       0.047065            10.460157             32.895324     0.001887   \n",
            "min       0.012000             1.000000              6.000000     0.990070   \n",
            "25%       0.070000             7.000000             22.000000     0.995600   \n",
            "50%       0.079000            14.000000             38.000000     0.996750   \n",
            "75%       0.090000            21.000000             62.000000     0.997835   \n",
            "max       0.611000            72.000000            289.000000     1.003690   \n",
            "\n",
            "                ph    sulphates      alcohol      quality  \n",
            "count  1599.000000  1599.000000  1599.000000  1599.000000  \n",
            "mean      3.311113     0.658149    10.422983     5.636023  \n",
            "std       0.154386     0.169507     1.065668     0.807569  \n",
            "min       2.740000     0.330000     8.400000     3.000000  \n",
            "25%       3.210000     0.550000     9.500000     5.000000  \n",
            "50%       3.310000     0.620000    10.200000     6.000000  \n",
            "75%       3.400000     0.730000    11.100000     6.000000  \n",
            "max       4.010000     2.000000    14.900000     8.000000  \n"
          ]
        }
      ]
    },
    {
      "cell_type": "markdown",
      "source": [
        "# **Tratamento de Valores Nulos:**\n",
        "\n",
        "Verifique se há valores nulos (no caso desse dataset, normalmente não há, mas é sempre bom verificar):"
      ],
      "metadata": {
        "id": "YYj-d1tWBy9U"
      }
    },
    {
      "cell_type": "code",
      "source": [
        "print(df.isnull().sum())"
      ],
      "metadata": {
        "colab": {
          "base_uri": "https://localhost:8080/"
        },
        "id": "99BX2JdDBxNs",
        "outputId": "49cd74a7-a5b3-4fa8-bcf8-85c5bf4e0a2c"
      },
      "execution_count": null,
      "outputs": [
        {
          "output_type": "stream",
          "name": "stdout",
          "text": [
            "fixed_acidity           0\n",
            "volatile_acidity        0\n",
            "citric_acid             0\n",
            "residual_sugar          0\n",
            "chlorides               0\n",
            "free_sulfur_dioxide     0\n",
            "total_sulfur_dioxide    0\n",
            "density                 0\n",
            "ph                      0\n",
            "sulphates               0\n",
            "alcohol                 0\n",
            "quality                 0\n",
            "dtype: int64\n"
          ]
        }
      ]
    },
    {
      "cell_type": "markdown",
      "source": [
        "# **Normalização:**\n",
        "Para melhorar o desempenho do modelo NeuroFuzzy, Vamos normalizar as variáveis para uma escala entre 0 e 1."
      ],
      "metadata": {
        "id": "_qF-g0K2CKgv"
      }
    },
    {
      "cell_type": "code",
      "source": [
        "from sklearn.preprocessing import MinMaxScaler\n",
        "\n",
        "# Normalizar as colunas de características (entradas)\n",
        "scaler = MinMaxScaler()\n",
        "df_features_normalized = pd.DataFrame(scaler.fit_transform(df_features), columns=df_features.columns)\n",
        "\n",
        "# Adicionar a coluna 'quality' de volta ao dataframe normalizado\n",
        "df_normalized = pd.concat([df_features_normalized, quality_column.reset_index(drop=True)], axis=1)\n",
        "\n",
        "# Visualizar os dados normalizados\n",
        "print(df_normalized.head())\n"
      ],
      "metadata": {
        "id": "8lskplxJCX3-",
        "colab": {
          "base_uri": "https://localhost:8080/"
        },
        "outputId": "7170c570-18f1-472b-815c-174001b900cc"
      },
      "execution_count": null,
      "outputs": [
        {
          "output_type": "stream",
          "name": "stdout",
          "text": [
            "   fixed_acidity  volatile_acidity  citric_acid  residual_sugar  chlorides  \\\n",
            "0       0.247788          0.397260         0.00        0.068493   0.106845   \n",
            "1       0.283186          0.520548         0.00        0.116438   0.143573   \n",
            "2       0.283186          0.438356         0.04        0.095890   0.133556   \n",
            "3       0.584071          0.109589         0.56        0.068493   0.105175   \n",
            "4       0.247788          0.397260         0.00        0.068493   0.106845   \n",
            "\n",
            "   free_sulfur_dioxide  total_sulfur_dioxide   density        ph  sulphates  \\\n",
            "0             0.140845              0.098940  0.567548  0.606299   0.137725   \n",
            "1             0.338028              0.215548  0.494126  0.362205   0.209581   \n",
            "2             0.197183              0.169611  0.508811  0.409449   0.191617   \n",
            "3             0.225352              0.190813  0.582232  0.330709   0.149701   \n",
            "4             0.140845              0.098940  0.567548  0.606299   0.137725   \n",
            "\n",
            "    alcohol  quality  \n",
            "0  0.153846        5  \n",
            "1  0.215385        5  \n",
            "2  0.215385        5  \n",
            "3  0.215385        6  \n",
            "4  0.153846        5  \n"
          ]
        }
      ]
    },
    {
      "cell_type": "markdown",
      "source": [
        "# **Separação entre Features e Target:**\n",
        "Definimos X (features) e y (target) para o treinamento e teste. A coluna \"quality\" é a variável alvo."
      ],
      "metadata": {
        "id": "B2diLbLhCbs0"
      }
    },
    {
      "cell_type": "code",
      "source": [
        "X = df_normalized.drop('quality', axis=1)\n",
        "y = df_normalized['quality']"
      ],
      "metadata": {
        "id": "yRHh-1lmCmyy"
      },
      "execution_count": null,
      "outputs": []
    },
    {
      "cell_type": "markdown",
      "source": [
        "# **Divisão em Conjuntos de Treino e Teste:**\n",
        "\n",
        "Para separar os dados, usamos train_test_split do sklearn:"
      ],
      "metadata": {
        "id": "v21pM8p5Cr0B"
      }
    },
    {
      "cell_type": "code",
      "source": [
        "from sklearn.model_selection import train_test_split\n",
        "\n",
        "# Dividir o dataset df em treino e teste\n",
        "train_data, test_data = train_test_split(df, test_size=0.2, random_state=42)\n",
        "\n",
        "# Conferir o conteúdo de test_data\n",
        "print(test_data.head())\n"
      ],
      "metadata": {
        "id": "w-HZbhYxCvMd",
        "colab": {
          "base_uri": "https://localhost:8080/"
        },
        "outputId": "275e0619-5348-44cd-ffd8-5a2e7612ee99"
      },
      "execution_count": null,
      "outputs": [
        {
          "output_type": "stream",
          "name": "stdout",
          "text": [
            "      fixed_acidity  volatile_acidity  citric_acid  residual_sugar  chlorides  \\\n",
            "803             7.7              0.56         0.08            2.50      0.114   \n",
            "124             7.8              0.50         0.17            1.60      0.082   \n",
            "350            10.7              0.67         0.22            2.70      0.107   \n",
            "682             8.5              0.46         0.31            2.25      0.078   \n",
            "1326            6.7              0.46         0.24            1.70      0.077   \n",
            "\n",
            "      free_sulfur_dioxide  total_sulfur_dioxide  density    ph  sulphates  \\\n",
            "803                  14.0                  46.0   0.9971  3.24       0.66   \n",
            "124                  21.0                 102.0   0.9960  3.39       0.48   \n",
            "350                  17.0                  34.0   1.0004  3.28       0.98   \n",
            "682                  32.0                  58.0   0.9980  3.33       0.54   \n",
            "1326                 18.0                  34.0   0.9948  3.39       0.60   \n",
            "\n",
            "      alcohol  quality  \n",
            "803       9.6        6  \n",
            "124       9.5        5  \n",
            "350       9.9        6  \n",
            "682       9.8        5  \n",
            "1326     10.6        6  \n"
          ]
        }
      ]
    },
    {
      "cell_type": "markdown",
      "source": [
        "# **Configurar as Regras Fuzzy**\n",
        "Para sistemas NeuroFuzzy, é necessário definir conjuntos fuzzy para cada feature. No caso dos dados de vinho, considere:\n",
        "*    Acidez Fixa (fixed acidity):\n",
        "Termos : \"baixo\", \"médio\", \"alto\"\n",
        "*    Acidez Volátil (volatile acidity):\n",
        "Termos : \"baixo\", \"moderado\", \"alto\"\n",
        "*    Açúcar Residual (residual sugar):\n",
        "Termos : \"baixo\", \"moderado\", \"alto\"\n",
        "*    Dióxido de Enxofre Livre (free sulfur dioxide):\n",
        "Termos : \"baixo\", \"moderado\", \"alto\""
      ],
      "metadata": {
        "id": "0GdKM49oDjgy"
      }
    },
    {
      "cell_type": "code",
      "source": [
        "import numpy as np\n",
        "import skfuzzy as fuzz\n",
        "\n",
        "# Definir o range normalizado para as variáveis\n",
        "fixed_acidity = np.linspace(0, 1, 100)\n",
        "volatile_acidity = np.linspace(0, 1, 100)\n",
        "residual_sugar = np.linspace(0, 1, 100)\n",
        "sulfur_dioxide = np.linspace(0, 1, 100)\n",
        "alcohol = np.linspace(0, 1, 100)\n",
        "quality = np.linspace(0, 1, 100)  # Variável de saída para a qualidade\n",
        "\n",
        "# Termos fuzzy para acidez fixa\n",
        "fixed_acidity_low = fuzz.trimf(fixed_acidity, [0, 0, 0.5])\n",
        "fixed_acidity_medium = fuzz.trimf(fixed_acidity, [0.3, 0.5, 0.7])\n",
        "fixed_acidity_high = fuzz.trimf(fixed_acidity, [0.5, 1, 1])\n",
        "\n",
        "# Termos fuzzy para acidez volátil\n",
        "volatile_acidity_low = fuzz.trimf(volatile_acidity, [0, 0, 0.4])\n",
        "volatile_acidity_moderate = fuzz.trimf(volatile_acidity, [0.3, 0.5, 0.7])\n",
        "volatile_acidity_high = fuzz.trimf(volatile_acidity, [0.6, 1, 1])\n",
        "\n",
        "# Termos fuzzy para açúcar residual\n",
        "residual_sugar_low = fuzz.trimf(residual_sugar, [0, 0, 0.5])\n",
        "residual_sugar_moderate = fuzz.trimf(residual_sugar, [0.3, 0.5, 0.7])\n",
        "residual_sugar_high = fuzz.trimf(residual_sugar, [0.5, 1, 1])\n",
        "\n",
        "# Termos fuzzy para dióxido de enxofre\n",
        "sulfur_dioxide_low = fuzz.trimf(sulfur_dioxide, [0, 0, 0.4])\n",
        "sulfur_dioxide_moderate = fuzz.trimf(sulfur_dioxide, [0.3, 0.5, 0.7])\n",
        "sulfur_dioxide_high = fuzz.trimf(sulfur_dioxide, [0.6, 1, 1])\n",
        "\n",
        "# Termos fuzzy para teor alcoólico\n",
        "alcohol_low = fuzz.trimf(alcohol, [0, 0, 0.5])\n",
        "alcohol_medium = fuzz.trimf(alcohol, [0.3, 0.5, 0.7])\n",
        "alcohol_high = fuzz.trimf(alcohol, [0.5, 1, 1])\n",
        "\n",
        "# Termos fuzzy para a qualidade do vinho\n",
        "quality_poor = fuzz.trimf(quality, [0, 0, 0.5])\n",
        "quality_average = fuzz.trimf(quality, [0.3, 0.5, 0.7])\n",
        "quality_good = fuzz.trimf(quality, [0.5, 1, 1])\n"
      ],
      "metadata": {
        "id": "P0wxSBWZDll0"
      },
      "execution_count": null,
      "outputs": []
    },
    {
      "cell_type": "markdown",
      "source": [
        "# **Configurar o Sistema NeuroFuzzy com Regras**\n",
        "*    Passo 1-2: Definimos as variáveis de entrada e saída.\n",
        "*    Passo 3-4: Atribuímos termos fuzzy às variáveis de entrada e à variável de saída.\n",
        "*    Passo 5: Criamos regras fuzzy para relacionar entradas e saída (qualidade).\n",
        "*    Passo 6: Configuramos o sistema NeuroFuzzy com as regras e executamos uma simulação de exemplo."
      ],
      "metadata": {
        "id": "5_MwkHDhDvIa"
      }
    },
    {
      "cell_type": "code",
      "source": [
        "import numpy as np\n",
        "import skfuzzy as fuzz\n",
        "from skfuzzy import control as ctrl\n",
        "\n",
        "# 1. Definir as variáveis de entrada (input)\n",
        "acidity = ctrl.Antecedent(np.linspace(0, 1, 100), 'acidity')\n",
        "volatile_acidity = ctrl.Antecedent(np.linspace(0, 1, 100), 'volatile_acidity')\n",
        "residual_sugar = ctrl.Antecedent(np.linspace(0, 1, 100), 'residual_sugar')\n",
        "sulfur_dioxide = ctrl.Antecedent(np.linspace(0, 1, 100), 'sulfur_dioxide')\n",
        "alcohol = ctrl.Antecedent(np.linspace(0, 1, 100), 'alcohol')\n",
        "\n",
        "# 2. Definir a variável de saída (output)\n",
        "quality = ctrl.Consequent(np.linspace(0, 1, 100), 'quality')\n",
        "\n",
        "# 3. Atribuir termos fuzzy para cada variável de entrada\n",
        "acidity['low'] = fuzz.trimf(acidity.universe, [0, 0, 0.5])\n",
        "acidity['medium'] = fuzz.trimf(acidity.universe, [0.3, 0.5, 0.7])\n",
        "acidity['high'] = fuzz.trimf(acidity.universe, [0.5, 1, 1])\n",
        "\n",
        "volatile_acidity['low'] = fuzz.trimf(volatile_acidity.universe, [0, 0, 0.4])\n",
        "volatile_acidity['moderate'] = fuzz.trimf(volatile_acidity.universe, [0.3, 0.5, 0.7])\n",
        "volatile_acidity['high'] = fuzz.trimf(volatile_acidity.universe, [0.6, 1, 1])\n",
        "\n",
        "residual_sugar['low'] = fuzz.trimf(residual_sugar.universe, [0, 0, 0.5])\n",
        "residual_sugar['moderate'] = fuzz.trimf(residual_sugar.universe, [0.3, 0.5, 0.7])\n",
        "residual_sugar['high'] = fuzz.trimf(residual_sugar.universe, [0.5, 1, 1])\n",
        "\n",
        "sulfur_dioxide['low'] = fuzz.trimf(sulfur_dioxide.universe, [0, 0, 0.4])\n",
        "sulfur_dioxide['moderate'] = fuzz.trimf(sulfur_dioxide.universe, [0.3, 0.5, 0.7])\n",
        "sulfur_dioxide['high'] = fuzz.trimf(sulfur_dioxide.universe, [0.6, 1, 1])\n",
        "\n",
        "alcohol['low'] = fuzz.trimf(alcohol.universe, [0, 0, 0.5])\n",
        "alcohol['medium'] = fuzz.trimf(alcohol.universe, [0.3, 0.5, 0.7])\n",
        "alcohol['high'] = fuzz.trimf(alcohol.universe, [0.5, 1, 1])\n",
        "\n",
        "# 4. Definir termos fuzzy para a variável de saída\n",
        "quality['poor'] = fuzz.trimf(quality.universe, [0, 0, 0.5])\n",
        "quality['average'] = fuzz.trimf(quality.universe, [0.3, 0.5, 0.7])\n",
        "quality['good'] = fuzz.trimf(quality.universe, [0.5, 1, 1])\n",
        "\n",
        "# 5. Criar regras fuzzy\n",
        "rule1 = ctrl.Rule(alcohol['high'] & acidity['low'] & volatile_acidity['low'], quality['good'])\n",
        "rule2 = ctrl.Rule(alcohol['medium'] & residual_sugar['moderate'], quality['average'])\n",
        "rule3 = ctrl.Rule(alcohol['low'] | volatile_acidity['high'] | sulfur_dioxide['high'], quality['poor'])\n",
        "rule4 = ctrl.Rule(acidity['medium'] & sulfur_dioxide['moderate'], quality['average'])\n",
        "rule5 = ctrl.Rule(residual_sugar['high'] & alcohol['high'], quality['good'])\n",
        "\n",
        "# 6. Configurar o sistema de controle fuzzy com as regras\n",
        "quality_control = ctrl.ControlSystem([rule1, rule2, rule3, rule4, rule5])\n",
        "quality_simulation = ctrl.ControlSystemSimulation(quality_control)\n",
        "\n",
        "# Exemplo de simulação com valores de entrada\n",
        "quality_simulation.input['acidity'] = 0.4\n",
        "quality_simulation.input['volatile_acidity'] = 0.2\n",
        "quality_simulation.input['residual_sugar'] = 0.6\n",
        "quality_simulation.input['sulfur_dioxide'] = 0.3\n",
        "quality_simulation.input['alcohol'] = 0.7\n",
        "\n",
        "# Computar o resultado\n",
        "quality_simulation.compute()\n",
        "print(\"Qualidade predita:\", quality_simulation.output['quality'])\n"
      ],
      "metadata": {
        "colab": {
          "base_uri": "https://localhost:8080/"
        },
        "id": "VlH4ybKBLVVh",
        "outputId": "e1277167-8327-48d3-8708-8d768fe06a04"
      },
      "execution_count": null,
      "outputs": [
        {
          "output_type": "stream",
          "name": "stdout",
          "text": [
            "Qualidade predita: 0.7651828800177394\n"
          ]
        }
      ]
    },
    {
      "cell_type": "markdown",
      "source": [
        "# **Configuração de Regras e Controle Fuzzy**\n",
        "As regras fuzzy serão baseadas em inferências lógicas que definem a qualidade do vinho de acordo com diferentes combinações das variáveis de entrada. Para criar um sistema de controle fuzzy"
      ],
      "metadata": {
        "id": "glzqU8htLrpg"
      }
    },
    {
      "cell_type": "code",
      "source": [
        "import skfuzzy.control as ctrl\n",
        "\n",
        "# Definindo as variáveis fuzzy de entrada\n",
        "fixed_acidity_ctrl = ctrl.Antecedent(np.linspace(0, 1, 100), 'fixed_acidity')\n",
        "volatile_acidity_ctrl = ctrl.Antecedent(np.linspace(0, 1, 100), 'volatile_acidity')\n",
        "residual_sugar_ctrl = ctrl.Antecedent(np.linspace(0, 1, 100), 'residual_sugar')\n",
        "sulfur_dioxide_ctrl = ctrl.Antecedent(np.linspace(0, 1, 100), 'sulfur_dioxide')\n",
        "alcohol_ctrl = ctrl.Antecedent(np.linspace(0, 1, 100), 'alcohol')\n",
        "\n",
        "# Definindo a variável fuzzy de saída\n",
        "quality_ctrl = ctrl.Consequent(np.linspace(0, 1, 100), 'quality')\n",
        "\n",
        "# Atribuindo os termos fuzzy a cada variável\n",
        "fixed_acidity_ctrl['low'] = fixed_acidity_low\n",
        "fixed_acidity_ctrl['medium'] = fixed_acidity_medium\n",
        "fixed_acidity_ctrl['high'] = fixed_acidity_high\n",
        "\n",
        "volatile_acidity_ctrl['low'] = volatile_acidity_low\n",
        "volatile_acidity_ctrl['moderate'] = volatile_acidity_moderate\n",
        "volatile_acidity_ctrl['high'] = volatile_acidity_high\n",
        "\n",
        "residual_sugar_ctrl['low'] = residual_sugar_low\n",
        "residual_sugar_ctrl['moderate'] = residual_sugar_moderate\n",
        "residual_sugar_ctrl['high'] = residual_sugar_high\n",
        "\n",
        "sulfur_dioxide_ctrl['low'] = sulfur_dioxide_low\n",
        "sulfur_dioxide_ctrl['moderate'] = sulfur_dioxide_moderate\n",
        "sulfur_dioxide_ctrl['high'] = sulfur_dioxide_high\n",
        "\n",
        "alcohol_ctrl['low'] = alcohol_low\n",
        "alcohol_ctrl['medium'] = alcohol_medium\n",
        "alcohol_ctrl['high'] = alcohol_high\n",
        "\n",
        "quality_ctrl['poor'] = quality_poor\n",
        "quality_ctrl['average'] = quality_average\n",
        "quality_ctrl['good'] = quality_good\n",
        "\n",
        "# Definindo regras fuzzy\n",
        "rule1 = ctrl.Rule(fixed_acidity_ctrl['high'] & alcohol_ctrl['high'], quality_ctrl['good'])\n",
        "rule2 = ctrl.Rule(volatile_acidity_ctrl['low'] & sulfur_dioxide_ctrl['moderate'], quality_ctrl['average'])\n",
        "rule3 = ctrl.Rule(residual_sugar_ctrl['low'] & fixed_acidity_ctrl['medium'], quality_ctrl['average'])\n",
        "rule4 = ctrl.Rule(alcohol_ctrl['low'] | volatile_acidity_ctrl['high'], quality_ctrl['poor'])\n",
        "rule5 = ctrl.Rule(sulfur_dioxide_ctrl['high'] & alcohol_ctrl['high'], quality_ctrl['good'])\n",
        "\n",
        "# Criando o sistema de controle\n",
        "quality_control_system = ctrl.ControlSystem([rule1, rule2, rule3, rule4, rule5])\n",
        "quality_simulation = ctrl.ControlSystemSimulation(quality_control_system)\n",
        "\n",
        "# Exemplo de entrada para simulação (valores normalizados)\n",
        "quality_simulation.input['fixed_acidity'] = 0.7\n",
        "quality_simulation.input['volatile_acidity'] = 0.2\n",
        "quality_simulation.input['residual_sugar'] = 0.5\n",
        "quality_simulation.input['sulfur_dioxide'] = 0.3\n",
        "quality_simulation.input['alcohol'] = 0.8\n",
        "\n",
        "# Realizando o cálculo da qualidade com base nas regras\n",
        "quality_simulation.compute()\n",
        "\n",
        "# Mostrando o resultado\n",
        "print(f\"Qualidade do vinho (normalizada): {quality_simulation.output['quality']}\")\n"
      ],
      "metadata": {
        "colab": {
          "base_uri": "https://localhost:8080/"
        },
        "id": "4UtO-AGfLu7p",
        "outputId": "9bfafe49-9cfa-4791-802d-04de3e52185a"
      },
      "execution_count": null,
      "outputs": [
        {
          "output_type": "stream",
          "name": "stdout",
          "text": [
            "Qualidade do vinho (normalizada): 0.7904858107581405\n"
          ]
        }
      ]
    },
    {
      "cell_type": "markdown",
      "source": [
        "# **Código para Treinamento com Gráficos de Loss e Acurácia**"
      ],
      "metadata": {
        "id": "kUdAj_cIKEHd"
      }
    },
    {
      "cell_type": "code",
      "source": [
        "import matplotlib.pyplot as plt\n",
        "from sklearn.model_selection import train_test_split\n",
        "from tensorflow.keras.models import Sequential\n",
        "from tensorflow.keras.layers import Dense\n",
        "from tensorflow.keras.optimizers import Adam\n",
        "\n",
        "# Separar dados em treino e teste\n",
        "X_train, X_val, y_train, y_val = train_test_split(X, y, test_size=0.2, random_state=42)\n",
        "\n",
        "# Definir o modelo (Exemplo de uma rede neural simples)\n",
        "model = Sequential([\n",
        "    Dense(64, activation='relu', input_shape=(X_train.shape[1],)),\n",
        "    Dense(32, activation='relu'),\n",
        "    Dense(1, activation='sigmoid')  # Supondo saída binária ou valor contínuo\n",
        "])\n",
        "\n",
        "# Compilar o modelo\n",
        "model.compile(optimizer=Adam(learning_rate=0.001), loss='binary_crossentropy', metrics=['accuracy'])\n",
        "\n",
        "# Treinar o modelo e salvar o histórico\n",
        "history = model.fit(X_train, y_train, epochs=50, validation_data=(X_val, y_val), batch_size=32)\n",
        "\n",
        "# Plotar o gráfico de loss\n",
        "plt.figure(figsize=(12, 5))\n",
        "plt.subplot(1, 2, 1)\n",
        "plt.plot(history.history['loss'], label='Loss de Treinamento')\n",
        "plt.plot(history.history['val_loss'], label='Loss de Validação')\n",
        "plt.xlabel('Épocas')\n",
        "plt.ylabel('Loss')\n",
        "plt.legend()\n",
        "plt.title('Loss durante o Treinamento')\n",
        "\n",
        "# Plotar o gráfico de acurácia\n",
        "plt.subplot(1, 2, 2)\n",
        "plt.plot(history.history['accuracy'], label='Acurácia de Treinamento')\n",
        "plt.plot(history.history['val_accuracy'], label='Acurácia de Validação')\n",
        "plt.xlabel('Épocas')\n",
        "plt.ylabel('Acurácia')\n",
        "plt.legend()\n",
        "plt.title('Acurácia durante o Treinamento')\n",
        "plt.show()\n"
      ],
      "metadata": {
        "colab": {
          "base_uri": "https://localhost:8080/",
          "height": 1000
        },
        "id": "oWwVfWqZKG-p",
        "outputId": "65220790-d8c3-46d0-f9cd-a357f2b6efe4"
      },
      "execution_count": null,
      "outputs": [
        {
          "output_type": "stream",
          "name": "stdout",
          "text": [
            "Epoch 1/50\n"
          ]
        },
        {
          "output_type": "stream",
          "name": "stderr",
          "text": [
            "/usr/local/lib/python3.10/dist-packages/keras/src/layers/core/dense.py:87: UserWarning: Do not pass an `input_shape`/`input_dim` argument to a layer. When using Sequential models, prefer using an `Input(shape)` object as the first layer in the model instead.\n",
            "  super().__init__(activity_regularizer=activity_regularizer, **kwargs)\n"
          ]
        },
        {
          "output_type": "stream",
          "name": "stdout",
          "text": [
            "\u001b[1m40/40\u001b[0m \u001b[32m━━━━━━━━━━━━━━━━━━━━\u001b[0m\u001b[37m\u001b[0m \u001b[1m1s\u001b[0m 6ms/step - accuracy: 0.0000e+00 - loss: 0.0698 - val_accuracy: 0.0000e+00 - val_loss: -6.5381\n",
            "Epoch 2/50\n",
            "\u001b[1m40/40\u001b[0m \u001b[32m━━━━━━━━━━━━━━━━━━━━\u001b[0m\u001b[37m\u001b[0m \u001b[1m0s\u001b[0m 2ms/step - accuracy: 0.0000e+00 - loss: -12.1166 - val_accuracy: 0.0000e+00 - val_loss: -40.8533\n",
            "Epoch 3/50\n",
            "\u001b[1m40/40\u001b[0m \u001b[32m━━━━━━━━━━━━━━━━━━━━\u001b[0m\u001b[37m\u001b[0m \u001b[1m0s\u001b[0m 2ms/step - accuracy: 0.0000e+00 - loss: -61.3047 - val_accuracy: 0.0000e+00 - val_loss: -148.4627\n",
            "Epoch 4/50\n",
            "\u001b[1m40/40\u001b[0m \u001b[32m━━━━━━━━━━━━━━━━━━━━\u001b[0m\u001b[37m\u001b[0m \u001b[1m0s\u001b[0m 2ms/step - accuracy: 0.0000e+00 - loss: -196.1358 - val_accuracy: 0.0000e+00 - val_loss: -384.9387\n",
            "Epoch 5/50\n",
            "\u001b[1m40/40\u001b[0m \u001b[32m━━━━━━━━━━━━━━━━━━━━\u001b[0m\u001b[37m\u001b[0m \u001b[1m0s\u001b[0m 3ms/step - accuracy: 0.0000e+00 - loss: -475.2372 - val_accuracy: 0.0000e+00 - val_loss: -807.4995\n",
            "Epoch 6/50\n",
            "\u001b[1m40/40\u001b[0m \u001b[32m━━━━━━━━━━━━━━━━━━━━\u001b[0m\u001b[37m\u001b[0m \u001b[1m0s\u001b[0m 3ms/step - accuracy: 0.0000e+00 - loss: -954.3224 - val_accuracy: 0.0000e+00 - val_loss: -1474.5609\n",
            "Epoch 7/50\n",
            "\u001b[1m40/40\u001b[0m \u001b[32m━━━━━━━━━━━━━━━━━━━━\u001b[0m\u001b[37m\u001b[0m \u001b[1m0s\u001b[0m 2ms/step - accuracy: 0.0000e+00 - loss: -1695.7449 - val_accuracy: 0.0000e+00 - val_loss: -2445.9182\n",
            "Epoch 8/50\n",
            "\u001b[1m40/40\u001b[0m \u001b[32m━━━━━━━━━━━━━━━━━━━━\u001b[0m\u001b[37m\u001b[0m \u001b[1m0s\u001b[0m 2ms/step - accuracy: 0.0000e+00 - loss: -2747.5269 - val_accuracy: 0.0000e+00 - val_loss: -3779.5320\n",
            "Epoch 9/50\n",
            "\u001b[1m40/40\u001b[0m \u001b[32m━━━━━━━━━━━━━━━━━━━━\u001b[0m\u001b[37m\u001b[0m \u001b[1m0s\u001b[0m 2ms/step - accuracy: 0.0000e+00 - loss: -4153.3013 - val_accuracy: 0.0000e+00 - val_loss: -5528.8408\n",
            "Epoch 10/50\n",
            "\u001b[1m40/40\u001b[0m \u001b[32m━━━━━━━━━━━━━━━━━━━━\u001b[0m\u001b[37m\u001b[0m \u001b[1m0s\u001b[0m 3ms/step - accuracy: 0.0000e+00 - loss: -6058.5898 - val_accuracy: 0.0000e+00 - val_loss: -7749.6182\n",
            "Epoch 11/50\n",
            "\u001b[1m40/40\u001b[0m \u001b[32m━━━━━━━━━━━━━━━━━━━━\u001b[0m\u001b[37m\u001b[0m \u001b[1m0s\u001b[0m 3ms/step - accuracy: 0.0000e+00 - loss: -8373.4990 - val_accuracy: 0.0000e+00 - val_loss: -10478.8809\n",
            "Epoch 12/50\n",
            "\u001b[1m40/40\u001b[0m \u001b[32m━━━━━━━━━━━━━━━━━━━━\u001b[0m\u001b[37m\u001b[0m \u001b[1m0s\u001b[0m 3ms/step - accuracy: 0.0000e+00 - loss: -11235.9160 - val_accuracy: 0.0000e+00 - val_loss: -13760.2783\n",
            "Epoch 13/50\n",
            "\u001b[1m40/40\u001b[0m \u001b[32m━━━━━━━━━━━━━━━━━━━━\u001b[0m\u001b[37m\u001b[0m \u001b[1m0s\u001b[0m 2ms/step - accuracy: 0.0000e+00 - loss: -14555.2070 - val_accuracy: 0.0000e+00 - val_loss: -17664.2344\n",
            "Epoch 14/50\n",
            "\u001b[1m40/40\u001b[0m \u001b[32m━━━━━━━━━━━━━━━━━━━━\u001b[0m\u001b[37m\u001b[0m \u001b[1m0s\u001b[0m 2ms/step - accuracy: 0.0000e+00 - loss: -18745.0762 - val_accuracy: 0.0000e+00 - val_loss: -22226.5430\n",
            "Epoch 15/50\n",
            "\u001b[1m40/40\u001b[0m \u001b[32m━━━━━━━━━━━━━━━━━━━━\u001b[0m\u001b[37m\u001b[0m \u001b[1m0s\u001b[0m 2ms/step - accuracy: 0.0000e+00 - loss: -23359.8594 - val_accuracy: 0.0000e+00 - val_loss: -27469.3633\n",
            "Epoch 16/50\n",
            "\u001b[1m40/40\u001b[0m \u001b[32m━━━━━━━━━━━━━━━━━━━━\u001b[0m\u001b[37m\u001b[0m \u001b[1m0s\u001b[0m 2ms/step - accuracy: 0.0000e+00 - loss: -28786.4746 - val_accuracy: 0.0000e+00 - val_loss: -33443.7734\n",
            "Epoch 17/50\n",
            "\u001b[1m40/40\u001b[0m \u001b[32m━━━━━━━━━━━━━━━━━━━━\u001b[0m\u001b[37m\u001b[0m \u001b[1m0s\u001b[0m 3ms/step - accuracy: 0.0000e+00 - loss: -35572.0898 - val_accuracy: 0.0000e+00 - val_loss: -40159.5352\n",
            "Epoch 18/50\n",
            "\u001b[1m40/40\u001b[0m \u001b[32m━━━━━━━━━━━━━━━━━━━━\u001b[0m\u001b[37m\u001b[0m \u001b[1m0s\u001b[0m 2ms/step - accuracy: 0.0000e+00 - loss: -42238.3984 - val_accuracy: 0.0000e+00 - val_loss: -47671.2383\n",
            "Epoch 19/50\n",
            "\u001b[1m40/40\u001b[0m \u001b[32m━━━━━━━━━━━━━━━━━━━━\u001b[0m\u001b[37m\u001b[0m \u001b[1m0s\u001b[0m 3ms/step - accuracy: 0.0000e+00 - loss: -49195.9805 - val_accuracy: 0.0000e+00 - val_loss: -56005.1484\n",
            "Epoch 20/50\n",
            "\u001b[1m40/40\u001b[0m \u001b[32m━━━━━━━━━━━━━━━━━━━━\u001b[0m\u001b[37m\u001b[0m \u001b[1m0s\u001b[0m 2ms/step - accuracy: 0.0000e+00 - loss: -58211.0508 - val_accuracy: 0.0000e+00 - val_loss: -65198.2578\n",
            "Epoch 21/50\n",
            "\u001b[1m40/40\u001b[0m \u001b[32m━━━━━━━━━━━━━━━━━━━━\u001b[0m\u001b[37m\u001b[0m \u001b[1m0s\u001b[0m 2ms/step - accuracy: 0.0000e+00 - loss: -67754.0234 - val_accuracy: 0.0000e+00 - val_loss: -75295.9609\n",
            "Epoch 22/50\n",
            "\u001b[1m40/40\u001b[0m \u001b[32m━━━━━━━━━━━━━━━━━━━━\u001b[0m\u001b[37m\u001b[0m \u001b[1m0s\u001b[0m 2ms/step - accuracy: 0.0000e+00 - loss: -77499.6094 - val_accuracy: 0.0000e+00 - val_loss: -86261.8906\n",
            "Epoch 23/50\n",
            "\u001b[1m40/40\u001b[0m \u001b[32m━━━━━━━━━━━━━━━━━━━━\u001b[0m\u001b[37m\u001b[0m \u001b[1m0s\u001b[0m 2ms/step - accuracy: 0.0000e+00 - loss: -89319.0547 - val_accuracy: 0.0000e+00 - val_loss: -98213.7734\n",
            "Epoch 24/50\n",
            "\u001b[1m40/40\u001b[0m \u001b[32m━━━━━━━━━━━━━━━━━━━━\u001b[0m\u001b[37m\u001b[0m \u001b[1m0s\u001b[0m 2ms/step - accuracy: 0.0000e+00 - loss: -101810.0859 - val_accuracy: 0.0000e+00 - val_loss: -111123.6484\n",
            "Epoch 25/50\n",
            "\u001b[1m40/40\u001b[0m \u001b[32m━━━━━━━━━━━━━━━━━━━━\u001b[0m\u001b[37m\u001b[0m \u001b[1m0s\u001b[0m 3ms/step - accuracy: 0.0000e+00 - loss: -114560.7734 - val_accuracy: 0.0000e+00 - val_loss: -125025.1719\n",
            "Epoch 26/50\n",
            "\u001b[1m40/40\u001b[0m \u001b[32m━━━━━━━━━━━━━━━━━━━━\u001b[0m\u001b[37m\u001b[0m \u001b[1m0s\u001b[0m 2ms/step - accuracy: 0.0000e+00 - loss: -127159.3828 - val_accuracy: 0.0000e+00 - val_loss: -139896.8906\n",
            "Epoch 27/50\n",
            "\u001b[1m40/40\u001b[0m \u001b[32m━━━━━━━━━━━━━━━━━━━━\u001b[0m\u001b[37m\u001b[0m \u001b[1m0s\u001b[0m 2ms/step - accuracy: 0.0000e+00 - loss: -143967.2031 - val_accuracy: 0.0000e+00 - val_loss: -155860.0000\n",
            "Epoch 28/50\n",
            "\u001b[1m40/40\u001b[0m \u001b[32m━━━━━━━━━━━━━━━━━━━━\u001b[0m\u001b[37m\u001b[0m \u001b[1m0s\u001b[0m 2ms/step - accuracy: 0.0000e+00 - loss: -159854.1094 - val_accuracy: 0.0000e+00 - val_loss: -172809.5781\n",
            "Epoch 29/50\n",
            "\u001b[1m40/40\u001b[0m \u001b[32m━━━━━━━━━━━━━━━━━━━━\u001b[0m\u001b[37m\u001b[0m \u001b[1m0s\u001b[0m 2ms/step - accuracy: 0.0000e+00 - loss: -175833.2031 - val_accuracy: 0.0000e+00 - val_loss: -190855.4688\n",
            "Epoch 30/50\n",
            "\u001b[1m40/40\u001b[0m \u001b[32m━━━━━━━━━━━━━━━━━━━━\u001b[0m\u001b[37m\u001b[0m \u001b[1m0s\u001b[0m 2ms/step - accuracy: 0.0000e+00 - loss: -196570.9375 - val_accuracy: 0.0000e+00 - val_loss: -210107.7969\n",
            "Epoch 31/50\n",
            "\u001b[1m40/40\u001b[0m \u001b[32m━━━━━━━━━━━━━━━━━━━━\u001b[0m\u001b[37m\u001b[0m \u001b[1m0s\u001b[0m 2ms/step - accuracy: 0.0000e+00 - loss: -214710.0469 - val_accuracy: 0.0000e+00 - val_loss: -230402.4688\n",
            "Epoch 32/50\n",
            "\u001b[1m40/40\u001b[0m \u001b[32m━━━━━━━━━━━━━━━━━━━━\u001b[0m\u001b[37m\u001b[0m \u001b[1m0s\u001b[0m 3ms/step - accuracy: 0.0000e+00 - loss: -236938.3438 - val_accuracy: 0.0000e+00 - val_loss: -251800.6562\n",
            "Epoch 33/50\n",
            "\u001b[1m40/40\u001b[0m \u001b[32m━━━━━━━━━━━━━━━━━━━━\u001b[0m\u001b[37m\u001b[0m \u001b[1m0s\u001b[0m 3ms/step - accuracy: 0.0000e+00 - loss: -254007.5000 - val_accuracy: 0.0000e+00 - val_loss: -274372.5000\n",
            "Epoch 34/50\n",
            "\u001b[1m40/40\u001b[0m \u001b[32m━━━━━━━━━━━━━━━━━━━━\u001b[0m\u001b[37m\u001b[0m \u001b[1m0s\u001b[0m 2ms/step - accuracy: 0.0000e+00 - loss: -282422.7188 - val_accuracy: 0.0000e+00 - val_loss: -298185.4375\n",
            "Epoch 35/50\n",
            "\u001b[1m40/40\u001b[0m \u001b[32m━━━━━━━━━━━━━━━━━━━━\u001b[0m\u001b[37m\u001b[0m \u001b[1m0s\u001b[0m 2ms/step - accuracy: 0.0000e+00 - loss: -307341.5000 - val_accuracy: 0.0000e+00 - val_loss: -323101.1875\n",
            "Epoch 36/50\n",
            "\u001b[1m40/40\u001b[0m \u001b[32m━━━━━━━━━━━━━━━━━━━━\u001b[0m\u001b[37m\u001b[0m \u001b[1m0s\u001b[0m 2ms/step - accuracy: 0.0000e+00 - loss: -331335.4375 - val_accuracy: 0.0000e+00 - val_loss: -349248.5625\n",
            "Epoch 37/50\n",
            "\u001b[1m40/40\u001b[0m \u001b[32m━━━━━━━━━━━━━━━━━━━━\u001b[0m\u001b[37m\u001b[0m \u001b[1m0s\u001b[0m 2ms/step - accuracy: 0.0000e+00 - loss: -350891.5312 - val_accuracy: 0.0000e+00 - val_loss: -376576.4688\n",
            "Epoch 38/50\n",
            "\u001b[1m40/40\u001b[0m \u001b[32m━━━━━━━━━━━━━━━━━━━━\u001b[0m\u001b[37m\u001b[0m \u001b[1m0s\u001b[0m 2ms/step - accuracy: 0.0000e+00 - loss: -383446.4375 - val_accuracy: 0.0000e+00 - val_loss: -405190.5000\n",
            "Epoch 39/50\n",
            "\u001b[1m40/40\u001b[0m \u001b[32m━━━━━━━━━━━━━━━━━━━━\u001b[0m\u001b[37m\u001b[0m \u001b[1m0s\u001b[0m 2ms/step - accuracy: 0.0000e+00 - loss: -413023.6562 - val_accuracy: 0.0000e+00 - val_loss: -434992.7500\n",
            "Epoch 40/50\n",
            "\u001b[1m40/40\u001b[0m \u001b[32m━━━━━━━━━━━━━━━━━━━━\u001b[0m\u001b[37m\u001b[0m \u001b[1m0s\u001b[0m 2ms/step - accuracy: 0.0000e+00 - loss: -444326.8438 - val_accuracy: 0.0000e+00 - val_loss: -466090.0625\n",
            "Epoch 41/50\n",
            "\u001b[1m40/40\u001b[0m \u001b[32m━━━━━━━━━━━━━━━━━━━━\u001b[0m\u001b[37m\u001b[0m \u001b[1m0s\u001b[0m 2ms/step - accuracy: 0.0000e+00 - loss: -472504.1562 - val_accuracy: 0.0000e+00 - val_loss: -498459.9062\n",
            "Epoch 42/50\n",
            "\u001b[1m40/40\u001b[0m \u001b[32m━━━━━━━━━━━━━━━━━━━━\u001b[0m\u001b[37m\u001b[0m \u001b[1m0s\u001b[0m 3ms/step - accuracy: 0.0000e+00 - loss: -508327.3438 - val_accuracy: 0.0000e+00 - val_loss: -532207.6875\n",
            "Epoch 43/50\n",
            "\u001b[1m40/40\u001b[0m \u001b[32m━━━━━━━━━━━━━━━━━━━━\u001b[0m\u001b[37m\u001b[0m \u001b[1m0s\u001b[0m 2ms/step - accuracy: 0.0000e+00 - loss: -534691.5000 - val_accuracy: 0.0000e+00 - val_loss: -567097.1250\n",
            "Epoch 44/50\n",
            "\u001b[1m40/40\u001b[0m \u001b[32m━━━━━━━━━━━━━━━━━━━━\u001b[0m\u001b[37m\u001b[0m \u001b[1m0s\u001b[0m 2ms/step - accuracy: 0.0000e+00 - loss: -575279.0000 - val_accuracy: 0.0000e+00 - val_loss: -603410.0625\n",
            "Epoch 45/50\n",
            "\u001b[1m40/40\u001b[0m \u001b[32m━━━━━━━━━━━━━━━━━━━━\u001b[0m\u001b[37m\u001b[0m \u001b[1m0s\u001b[0m 4ms/step - accuracy: 0.0000e+00 - loss: -609528.6250 - val_accuracy: 0.0000e+00 - val_loss: -641067.5000\n",
            "Epoch 46/50\n",
            "\u001b[1m40/40\u001b[0m \u001b[32m━━━━━━━━━━━━━━━━━━━━\u001b[0m\u001b[37m\u001b[0m \u001b[1m0s\u001b[0m 4ms/step - accuracy: 0.0000e+00 - loss: -651001.8125 - val_accuracy: 0.0000e+00 - val_loss: -680001.5000\n",
            "Epoch 47/50\n",
            "\u001b[1m40/40\u001b[0m \u001b[32m━━━━━━━━━━━━━━━━━━━━\u001b[0m\u001b[37m\u001b[0m \u001b[1m0s\u001b[0m 4ms/step - accuracy: 0.0000e+00 - loss: -685487.1875 - val_accuracy: 0.0000e+00 - val_loss: -720181.1250\n",
            "Epoch 48/50\n",
            "\u001b[1m40/40\u001b[0m \u001b[32m━━━━━━━━━━━━━━━━━━━━\u001b[0m\u001b[37m\u001b[0m \u001b[1m0s\u001b[0m 3ms/step - accuracy: 0.0000e+00 - loss: -729424.1875 - val_accuracy: 0.0000e+00 - val_loss: -761964.3750\n",
            "Epoch 49/50\n",
            "\u001b[1m40/40\u001b[0m \u001b[32m━━━━━━━━━━━━━━━━━━━━\u001b[0m\u001b[37m\u001b[0m \u001b[1m0s\u001b[0m 3ms/step - accuracy: 0.0000e+00 - loss: -775904.6875 - val_accuracy: 0.0000e+00 - val_loss: -804984.6250\n",
            "Epoch 50/50\n",
            "\u001b[1m40/40\u001b[0m \u001b[32m━━━━━━━━━━━━━━━━━━━━\u001b[0m\u001b[37m\u001b[0m \u001b[1m0s\u001b[0m 3ms/step - accuracy: 0.0000e+00 - loss: -816455.7500 - val_accuracy: 0.0000e+00 - val_loss: -849365.8125\n"
          ]
        },
        {
          "output_type": "display_data",
          "data": {
            "text/plain": [
              "<Figure size 1200x500 with 2 Axes>"
            ],
            "image/png": "[encoded data removed]"
          },
          "metadata": {}
        }
      ]
    },
    {
      "cell_type": "markdown",
      "source": [
        "# **Teste e Avaliação do Modelo**\n",
        "O código abaixo carrega os dados de teste, usa o sistema fuzzy para fazer previsões e calcula as métricas de desempenho:"
      ],
      "metadata": {
        "id": "yy0v0_5YL7T-"
      }
    },
    {
      "cell_type": "code",
      "source": [
        "from sklearn.metrics import accuracy_score, f1_score, confusion_matrix\n",
        "import matplotlib.pyplot as plt\n",
        "\n",
        "# Função para realizar a previsão de qualidade com base nas entradas normalizadas\n",
        "def predict_quality(fixed_acidity, volatile_acidity, residual_sugar, sulfur_dioxide, alcohol):\n",
        "    quality_simulation.input['fixed_acidity'] = fixed_acidity\n",
        "    quality_simulation.input['volatile_acidity'] = volatile_acidity\n",
        "    quality_simulation.input['residual_sugar'] = residual_sugar\n",
        "    quality_simulation.input['sulfur_dioxide'] = sulfur_dioxide\n",
        "    quality_simulation.input['alcohol'] = alcohol\n",
        "    quality_simulation.compute()\n",
        "    quality_score = quality_simulation.output['quality']\n",
        "\n",
        "    # Classificação da qualidade com base na saída fuzzy\n",
        "    if quality_score < 0.4:\n",
        "        return 'poor'\n",
        "    elif 0.4 <= quality_score < 0.7:\n",
        "        return 'average'\n",
        "    else:\n",
        "        return 'good'\n",
        "\n",
        "# Função para categorizar a qualidade com base nos valores numéricos\n",
        "def categorize_quality(value):\n",
        "    if value <= 5:\n",
        "        return 'poor'\n",
        "    elif 6 <= value <= 7:\n",
        "        return 'average'\n",
        "    else:\n",
        "        return 'good'\n",
        "\n",
        "# Carregando os dados de teste e ajustando as variáveis para resultados reais e previstos\n",
        "y_true = []  # Qualidade real\n",
        "y_pred = []  # Qualidade prevista\n",
        "\n",
        "for i, row in test_data.iterrows():\n",
        "    true_quality = categorize_quality(row['quality'])  # Convertendo qualidade numérica para categoria\n",
        "    predicted_quality = predict_quality(\n",
        "        row['fixed_acidity'], row['volatile_acidity'],\n",
        "        row['residual_sugar'], row['free_sulfur_dioxide'],\n",
        "        row['alcohol']\n",
        "    )\n",
        "    y_true.append(true_quality)\n",
        "    y_pred.append(predicted_quality)\n",
        "\n",
        "# Cálculo das métricas de desempenho\n",
        "accuracy = accuracy_score(y_true, y_pred)\n",
        "f1 = f1_score(y_true, y_pred, average='weighted')\n",
        "conf_matrix = confusion_matrix(y_true, y_pred, labels=['poor', 'average', 'good'])\n",
        "\n",
        "# Exibindo as métricas\n",
        "print(f\"Acurácia: {accuracy}\")\n",
        "print(f\"F1 Score: {f1}\")\n",
        "print(\"Matriz de Confusão:\")\n",
        "print(conf_matrix)\n",
        "\n",
        "# Plotando a matriz de confusão\n",
        "fig, ax = plt.subplots()\n",
        "cax = ax.matshow(conf_matrix, cmap='Blues')\n",
        "plt.title('Matriz de Confusão')\n",
        "plt.xlabel('Predito')\n",
        "plt.ylabel('Real')\n",
        "plt.colorbar(cax)\n",
        "\n",
        "# Adicionando rótulos aos elementos da matriz de confusão\n",
        "for i in range(len(conf_matrix)):\n",
        "    for j in range(len(conf_matrix[0])):\n",
        "        ax.text(j, i, str(conf_matrix[i, j]), va='center', ha='center')\n",
        "\n",
        "plt.show()\n"
      ],
      "metadata": {
        "colab": {
          "base_uri": "https://localhost:8080/",
          "height": 581
        },
        "id": "hUMTMp9GL82V",
        "outputId": "a1279343-56d8-4cfc-d98e-2311fc8f9cbd"
      },
      "execution_count": null,
      "outputs": [
        {
          "output_type": "stream",
          "name": "stdout",
          "text": [
            "Acurácia: 0.06875\n",
            "F1 Score: 0.0795960328979197\n",
            "Matriz de Confusão:\n",
            "[[  0  43  98]\n",
            " [  0  17 157]\n",
            " [  0   0   5]]\n"
          ]
        },
        {
          "output_type": "display_data",
          "data": {
            "text/plain": [
              "<Figure size 640x480 with 2 Axes>"
            ],
            "image/png": "[encoded data removed]"
          },
          "metadata": {}
        }
      ]
    },
    {
      "cell_type": "markdown",
      "source": [
        "# **Análise das Métricas de Desempenho**\n",
        "*      Acurácia:\n",
        "A acurácia foi de 0.06875 (ou seja, 6,88%), o que indica um desempenho baixo. Isso significa que o modelo acertou cerca de 6,88% das previsões, um valor significativamente abaixo do ideal, sugerindo que o modelo possui dificuldade em prever corretamente a qualidade do vinho.\n",
        "*     F1 Score:\n",
        "O F1 Score, que é de 0.0796 (7,96%), também é baixo. O F1 Score considera tanto a precisão quanto o recall, e valores baixos indicam que o modelo não está performando bem ao balancear entre acertos e erros para cada classe. Isso confirma que o modelo está falhando em generalizar para as classes de qualidade do vinho.\n",
        "*    matriz de Confusão:\n",
        "A matriz de confusão fornece detalhes sobre as previsões incorretas:\n",
        "  *   Classe 'poor' (0): Dos exemplos reais dessa classe, 43 foram classificados incorretamente como 'average' e 98 como 'good'. O modelo não previu nenhum caso corretamente como 'poor', o que é preocupante.\n",
        "  *   Classe 'average' (1): Embora haja algum acerto (157 corretos), muitos exemplos 'average' foram previstos como 'good' (98) e alguns como 'poor' (17), indicando uma confusão entre as classes intermediárias e superiores.\n",
        "  *   Classe 'good' (2): Apenas 5 previsões para essa classe foram corretas, o que é muito baixo. Não houve erros de classificação desta classe para 'poor' ou 'average', mas é possível que essa classe tenha menos exemplos no conjunto de dados."
      ],
      "metadata": {
        "id": "5TAKzHVRGqj6"
      }
    },
    {
      "cell_type": "markdown",
      "source": [
        "# **Interpretação Geral**\n",
        "O desempenho sugere que o modelo está altamente enviesado para prever a qualidade do vinho como 'average' e 'good', com grande dificuldade em identificar vinhos de baixa qualidade ('poor').\n",
        "A discrepância na previsão entre as classes indica que as regras fuzzy e/ou a segmentação para cada classe (pobre, média, boa) podem estar mal ajustadas, possivelmente com limites muito próximos entre 'average' e 'good', o que causa confusão entre elas."
      ],
      "metadata": {
        "id": "7rrZfebfHf1-"
      }
    },
    {
      "cell_type": "markdown",
      "source": [
        "# **Possíveis Causas e Sugestões de Melhoria**\n",
        "*   **Revisar as Regras Fuzzy:** Ajustar os limites e as regras fuzzy para melhorar a precisão entre as categorias, especialmente em vinhos classificados como 'poor'.\n",
        "*   **Balanceamento das Classes:** Verifique o balanceamento do conjunto de dados. Se uma classe for significativamente menor, isso pode estar contribuindo para a má performance. Nesse caso, técnicas de balanceamento como subamostragem ou superamostragem podem ser úteis.\n",
        "*   **Aprimoramento das Entradas:** Avaliar as entradas fuzzy para ver se todos os fatores (acidez, açúcar, etc.) estão contribuindo adequadamente para a previsão. Ajustar a importância de cada entrada pode melhorar a precisão do modelo.\n",
        "*   **Refinamento das Faixas de Qualidade:** Modifique as faixas para que o modelo tenha maior precisão na distinção entre 'poor', 'average' e 'good'."
      ],
      "metadata": {
        "id": "V3oGnUpzHox5"
      }
    }
  ]
}